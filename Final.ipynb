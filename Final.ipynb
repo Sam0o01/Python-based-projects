{
 "cells": [
  {
   "cell_type": "markdown",
   "id": "040de387-36b3-4d92-9fcd-bb338a4ec637",
   "metadata": {},
   "source": [
    "#### To determine_outcome function"
   ]
  },
  {
   "cell_type": "code",
   "execution_count": 1,
   "id": "c27d0c58-53bc-4147-8465-5569c1d1d216",
   "metadata": {},
   "outputs": [],
   "source": [
    "def determine_outcome(pass_credits, defer_credits, fail_credits):\n",
    "    total_credits = pass_credits + defer_credits + fail_credits\n",
    "    \n",
    "    if total_credits != 120:\n",
    "        return \"Invalid input. The total credits must sum to 120.\"\n",
    "    \n",
    "    if pass_credits == 120:\n",
    "        return \"Progress\"\n",
    "    elif pass_credits == 100:\n",
    "        return \"Progress (module trailer)\"\n",
    "    elif fail_credits >= 80:\n",
    "        return \"Exclude\"\n",
    "    else:\n",
    "        return \"Do not Progress – module retriever\""
   ]
  },
  {
   "cell_type": "markdown",
   "id": "b5dca224-1727-4631-8587-3d79ecbd1ebd",
   "metadata": {},
   "source": [
    "#### Input Field"
   ]
  },
  {
   "cell_type": "code",
   "execution_count": 4,
   "id": "e6b48b54-57e5-40a3-afae-158316bdc5b1",
   "metadata": {},
   "outputs": [
    {
     "name": "stdin",
     "output_type": "stream",
     "text": [
      "Enter the number of pass credits:  0\n",
      "Enter the number of defer credits:  0\n",
      "Enter the number of fail credits:  120\n"
     ]
    }
   ],
   "source": [
    "try:\n",
    "    pass_credits = int(input(\"Enter the number of pass credits: \"))\n",
    "    defer_credits = int(input(\"Enter the number of defer credits: \"))\n",
    "    fail_credits = int(input(\"Enter the number of fail credits: \"))\n",
    "except ValueError:\n",
    "    print(\"Please enter valid integer values for credits.\")\n"
   ]
  },
  {
   "cell_type": "markdown",
   "id": "02ec5677-926d-41e8-b7ea-54647342102b",
   "metadata": {},
   "source": [
    "### Output the result"
   ]
  },
  {
   "cell_type": "code",
   "execution_count": 5,
   "id": "49357bd3-a68a-4208-abc9-d7579ef82604",
   "metadata": {},
   "outputs": [
    {
     "name": "stdout",
     "output_type": "stream",
     "text": [
      "Exclude\n"
     ]
    }
   ],
   "source": [
    "outcome = determine_outcome(pass_credits, defer_credits, fail_credits)\n",
    "print(outcome)\n"
   ]
  },
  {
   "cell_type": "markdown",
   "id": "f583a085-3c2d-457f-a13d-7bbbe9df519b",
   "metadata": {},
   "source": [
    "### Function to validate credits"
   ]
  },
  {
   "cell_type": "code",
   "execution_count": 6,
   "id": "795833a4-293c-4ace-8894-adf02d282c3b",
   "metadata": {},
   "outputs": [],
   "source": [
    "def validate_credits(value):\n",
    "    try:\n",
    "        value = int(value)\n",
    "        if value not in {0, 20, 40, 60, 80, 100, 120}:\n",
    "            print(\"Out of range\")\n",
    "            return None\n",
    "        return value\n",
    "    except ValueError:\n",
    "        print(\"Integer required\")\n",
    "        return None"
   ]
  },
  {
   "cell_type": "markdown",
   "id": "3cf118ee-6696-4e95-8252-3b24ec0db559",
   "metadata": {},
   "source": [
    "### Function to collect input with validation"
   ]
  },
  {
   "cell_type": "code",
   "execution_count": 7,
   "id": "2757a793-8d06-4d4e-a4e7-82b53d5e032e",
   "metadata": {},
   "outputs": [],
   "source": [
    "def get_validated_input(prompt):\n",
    "    while True:\n",
    "        value = input(prompt)\n",
    "        result = validate_credits(value)\n",
    "        if result is not None:\n",
    "            return result"
   ]
  },
  {
   "cell_type": "markdown",
   "id": "de10171c-d8a8-4de2-bffa-ce732f929e68",
   "metadata": {},
   "source": [
    "### Histogram function to visualize results"
   ]
  },
  {
   "cell_type": "code",
   "execution_count": 8,
   "id": "91866b7f-ed73-4fd5-9db2-11808c4d0748",
   "metadata": {},
   "outputs": [],
   "source": [
    "def display_histogram(progress_count, trailer_count, retriever_count, exclude_count):\n",
    "    categories = [\"Progress\", \"Progress (trailer)\", \"Module retriever\", \"Exclude\"]\n",
    "    counts = [progress_count, trailer_count, retriever_count, exclude_count]\n",
    "    \n",
    "    plt.bar(categories, counts, color=['green', 'blue', 'orange', 'red'])\n",
    "    plt.xlabel('Progression Outcome')\n",
    "    plt.ylabel('Number of Students')\n",
    "    plt.title('Student Progression Outcomes')\n",
    "    plt.show()"
   ]
  },
  {
   "cell_type": "markdown",
   "id": "0716289f-ce38-400d-bab0-c62c8270d5bb",
   "metadata": {},
   "source": [
    "### Main function to handle multiple outcomes and results"
   ]
  },
  {
   "cell_type": "code",
   "execution_count": 10,
   "id": "d4c9635a-3895-4400-acc6-95cfd3bcdd5a",
   "metadata": {},
   "outputs": [],
   "source": [
    "import matplotlib.pyplot as plt"
   ]
  },
  {
   "cell_type": "code",
   "execution_count": 11,
   "id": "93cc4a3c-856b-41ee-884c-e2bef75b554b",
   "metadata": {},
   "outputs": [
    {
     "name": "stdin",
     "output_type": "stream",
     "text": [
      "Enter the number of pass credits:  0\n",
      "Enter the number of defer credits:  0\n",
      "Enter the number of fail credits:  120\n"
     ]
    },
    {
     "name": "stdout",
     "output_type": "stream",
     "text": [
      "Exclude\n"
     ]
    },
    {
     "name": "stdin",
     "output_type": "stream",
     "text": [
      "Enter 'y' to input another student's data or 'q' to quit and view results:  q\n"
     ]
    },
    {
     "data": {
      "image/png": "[encoded data removed]",
      "text/plain": [
       "<Figure size 640x480 with 1 Axes>"
      ]
     },
     "metadata": {},
     "output_type": "display_data"
    },
    {
     "name": "stdout",
     "output_type": "stream",
     "text": [
      "Total students: 1\n",
      "Progress: 0, Trailer: 0, Retriever: 0, Exclude: 1\n"
     ]
    }
   ],
   "source": [
    "def main():\n",
    "    progress_count = 0\n",
    "    trailer_count = 0\n",
    "    retriever_count = 0\n",
    "    exclude_count = 0\n",
    "    \n",
    "    while True:\n",
    "        # Get validated inputs\n",
    "        pass_credits = get_validated_input(\"Enter the number of pass credits: \")\n",
    "        defer_credits = get_validated_input(\"Enter the number of defer credits: \")\n",
    "        fail_credits = get_validated_input(\"Enter the number of fail credits: \")\n",
    "        \n",
    "        # Determine outcome\n",
    "        outcome = determine_outcome(pass_credits, defer_credits, fail_credits)\n",
    "        print(outcome)\n",
    "        \n",
    "        # Update counts based on the outcome\n",
    "        if outcome == \"Progress\":\n",
    "            progress_count += 1\n",
    "        elif outcome == \"Progress (module trailer)\":\n",
    "            trailer_count += 1\n",
    "        elif outcome == \"Do not Progress – module retriever\":\n",
    "            retriever_count += 1\n",
    "        elif outcome == \"Exclude\":\n",
    "            exclude_count += 1\n",
    "\n",
    "        # Prompt to continue or quit\n",
    "        cont = input(\"Enter 'y' to input another student's data or 'q' to quit and view results: \")\n",
    "        if cont.lower() == 'q':\n",
    "            break\n",
    "\n",
    "    # Display histogram\n",
    "    display_histogram(progress_count, trailer_count, retriever_count, exclude_count)\n",
    "    print(f\"Total students: {progress_count + trailer_count + retriever_count + exclude_count}\")\n",
    "    print(f\"Progress: {progress_count}, Trailer: {trailer_count}, Retriever: {retriever_count}, Exclude: {exclude_count}\")\n",
    "\n",
    "# Run the program\n",
    "main()"
   ]
  },
  {
   "cell_type": "markdown",
   "id": "d6ecdcfd-17f3-4963-bd16-bdbb165e9609",
   "metadata": {},
   "source": [
    "### Part 2"
   ]
  },
  {
   "cell_type": "code",
   "execution_count": 13,
   "id": "e87742f9-5c5c-4b6a-bddb-6a1051231bb9",
   "metadata": {},
   "outputs": [
    {
     "name": "stdin",
     "output_type": "stream",
     "text": [
      "Enter credits at pass (multiple of 20):  0\n",
      "Enter credits at defer (multiple of 20):  0\n",
      "Enter credits at fail (multiple of 20):  120\n",
      "Do you want to enter another set of data? (yes/no):  no\n"
     ]
    },
    {
     "name": "stdout",
     "output_type": "stream",
     "text": [
      "Part 2:\n",
      "Exclude - 0, 0, 120\n",
      "Part 3:\n",
      "Exclude - 0, 0, 120\n"
     ]
    }
   ],
   "source": [
    "# Function to determine the progression outcome\n",
    "def get_progression_outcome(credits_pass, credits_defer, credits_fail):\n",
    "    if credits_pass == 120:\n",
    "        return \"Progress\"\n",
    "    elif credits_pass == 100:\n",
    "        return \"Progress (module trailer)\"\n",
    "    elif credits_fail >= 80:\n",
    "        return \"Exclude\"\n",
    "    else:\n",
    "        return \"Module retriever\"\n",
    "\n",
    "# Function to add the progression data to the list\n",
    "def add_to_list(progression_data, credits_pass, credits_defer, credits_fail):\n",
    "    outcome = get_progression_outcome(credits_pass, credits_defer, credits_fail)\n",
    "    progression_data.append([outcome, credits_pass, credits_defer, credits_fail])\n",
    "\n",
    "# Function to print the progression data from the list\n",
    "def print_progression_data(progression_data):\n",
    "    print(\"Part 2:\")\n",
    "    for data in progression_data:\n",
    "        outcome, credits_pass, credits_defer, credits_fail = data\n",
    "        print(f\"{outcome} - {credits_pass}, {credits_defer}, {credits_fail}\")\n",
    "\n",
    "# Function to save progression data to a text file\n",
    "def save_to_file(progression_data, filename):\n",
    "    with open(filename, 'w') as file:\n",
    "        for data in progression_data:\n",
    "            outcome, credits_pass, credits_defer, credits_fail = data\n",
    "            file.write(f\"{outcome} - {credits_pass}, {credits_defer}, {credits_fail}\\n\")\n",
    "\n",
    "# Function to load progression data from a text file and print it\n",
    "def load_and_print_from_file(filename):\n",
    "    print(\"Part 3:\")\n",
    "    try:\n",
    "        with open(filename, 'r') as file:\n",
    "            for line in file:\n",
    "                print(line.strip())\n",
    "    except FileNotFoundError:\n",
    "        print(f\"Error: The file {filename} does not exist.\")\n",
    "\n",
    "# Function to collect input from the user\n",
    "def collect_input():\n",
    "    while True:\n",
    "        try:\n",
    "            credits_pass = int(input(\"Enter credits at pass (multiple of 20): \"))\n",
    "            credits_defer = int(input(\"Enter credits at defer (multiple of 20): \"))\n",
    "            credits_fail = int(input(\"Enter credits at fail (multiple of 20): \"))\n",
    "\n",
    "            if (credits_pass + credits_defer + credits_fail) != 120:\n",
    "                print(\"Total credits must equal 120. Please try again.\")\n",
    "                continue\n",
    "\n",
    "            if any(credit % 20 != 0 for credit in [credits_pass, credits_defer, credits_fail]):\n",
    "                print(\"Each credit value must be a multiple of 20. Please try again.\")\n",
    "                continue\n",
    "\n",
    "            return credits_pass, credits_defer, credits_fail\n",
    "        except ValueError:\n",
    "            print(\"Invalid input. Please enter numbers only.\")\n",
    "\n",
    "# Main program execution\n",
    "def main():\n",
    "    progression_data = []\n",
    "\n",
    "    while True:\n",
    "        # Collect progression data from user\n",
    "        credits_pass, credits_defer, credits_fail = collect_input()\n",
    "        \n",
    "        # Add input data to the progression_data list\n",
    "        add_to_list(progression_data, credits_pass, credits_defer, credits_fail)\n",
    "\n",
    "        # Ask user if they want to input more data\n",
    "        another_entry = input(\"Do you want to enter another set of data? (yes/no): \").strip().lower()\n",
    "        if another_entry != 'yes':\n",
    "            break\n",
    "\n",
    "    # Part 2: Print the progression data\n",
    "    print_progression_data(progression_data)\n",
    "\n",
    "    # Part 3: Save to a text file and read from it\n",
    "    filename = 'progression_data.txt'\n",
    "    save_to_file(progression_data, filename)\n",
    "    load_and_print_from_file(filename)\n",
    "\n",
    "main()\n"
   ]
  },
  {
   "cell_type": "code",
   "execution_count": null,
   "id": "589e4063-10d4-489f-86fb-e3d741da489e",
   "metadata": {},
   "outputs": [],
   "source": []
  }
 ],
 "metadata": {
  "kernelspec": {
   "display_name": "Python 3 (ipykernel)",
   "language": "python",
   "name": "python3"
  },
  "language_info": {
   "codemirror_mode": {
    "name": "ipython",
    "version": 3
   },
   "file_extension": ".py",
   "mimetype": "text/x-python",
   "name": "python",
   "nbconvert_exporter": "python",
   "pygments_lexer": "ipython3",
   "version": "3.11.7"
  }
 },
 "nbformat": 4,
 "nbformat_minor": 5
}
